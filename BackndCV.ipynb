{
 "cells": [
  {
   "cell_type": "markdown",
   "id": "1a7cee4e-6d52-4968-9902-dd7114ed1758",
   "metadata": {},
   "source": [
    "This code generate an Hmac"
   ]
  },
  {
   "cell_type": "code",
   "execution_count": 8,
   "id": "7d29e288-0b07-4d8e-b4a2-7eb71c5e0132",
   "metadata": {
    "ExecuteTime": {
     "end_time": "2023-10-17T09:39:43.114705300Z",
     "start_time": "2023-10-17T09:39:42.784680200Z"
    }
   },
   "outputs": [
    {
     "name": "stdout",
     "output_type": "stream",
     "text": [
      "db5e73a5fa131abc45f2995afb38d2f5\n",
      "b'DECLARATION'\n"
     ]
    }
   ],
   "source": [
    "import hmac\n",
    "from hashlib import md5\n",
    "key = b'DECLARATION'\n",
    "h = hmac.new(key,b'',md5)\n",
    "#add content\n",
    "h.update (b'we hold speacial power within us')\n",
    "#print the hmac diget\n",
    "print(h.hexdigest())\n",
    "print(key)"
   ]
  },
  {
   "cell_type": "markdown",
   "id": "4cbb60db-43ca-4292-92c8-d75efe91083c",
   "metadata": {},
   "source": [
    "This code should generate an HMAC with a SHA3"
   ]
  },
  {
   "cell_type": "code",
   "execution_count": 9,
   "id": "179bfd09-54a3-4357-97e2-a8f60866cb6f",
   "metadata": {
    "ExecuteTime": {
     "end_time": "2023-10-17T09:39:49.230097Z",
     "start_time": "2023-10-17T09:39:49.140150900Z"
    }
   },
   "outputs": [
    {
     "name": "stdout",
     "output_type": "stream",
     "text": [
      "4dfb1fd892ed32ecfbb2d126872c9f4c\n"
     ]
    }
   ],
   "source": [
    "import hmac\n",
    "from hashlib import md5\n",
    "\n",
    "key = b'DECLARATION'\n",
    "h = hmac.new(key, b'', md5)\n",
    "# add content\n",
    "h.update(b'we hold special power within us')  # convert the string to bytes\n",
    "\n",
    "# print the hmac digest\n",
    "print(h.hexdigest())  # 'hexdiget' corrected to 'hexdigest'\n"
   ]
  },
  {
   "cell_type": "markdown",
   "id": "aaef6f9f-0894-44e7-9226-2b6dfd9263cd",
   "metadata": {},
   "source": [
    "Steganography[ missing module for cyptteg]"
   ]
  },
  {
   "cell_type": "code",
   "execution_count": 11,
   "id": "baf6d71e-dd41-4d5b-8196-b5d9a10253d3",
   "metadata": {
    "ExecuteTime": {
     "end_time": "2023-10-17T09:41:55.404949200Z",
     "start_time": "2023-10-17T09:41:55.127056400Z"
    }
   },
   "outputs": [
    {
     "ename": "OSError",
     "evalue": "cannot identify image file 'Firmware.txt'",
     "output_type": "error",
     "traceback": [
      "\u001B[1;31m---------------------------------------------------------------------------\u001B[0m",
      "\u001B[1;31mOSError\u001B[0m                                   Traceback (most recent call last)",
      "Cell \u001B[1;32mIn[11], line 12\u001B[0m\n\u001B[0;32m      9\u001B[0m message \u001B[38;5;241m=\u001B[39m \u001B[38;5;124m\"\u001B[39m\u001B[38;5;124mAlteredfile.txt\u001B[39m\u001B[38;5;124m\"\u001B[39m\n\u001B[0;32m     11\u001B[0m \u001B[38;5;66;03m# Hide the message in the original file and save it to the modified file\u001B[39;00m\n\u001B[1;32m---> 12\u001B[0m \u001B[43mcrypto_steganography\u001B[49m\u001B[38;5;241;43m.\u001B[39;49m\u001B[43mhide\u001B[49m\u001B[43m(\u001B[49m\u001B[43morigfile\u001B[49m\u001B[43m,\u001B[49m\u001B[43m \u001B[49m\u001B[43mmodfile\u001B[49m\u001B[43m,\u001B[49m\u001B[43m \u001B[49m\u001B[43mmessage\u001B[49m\u001B[43m)\u001B[49m\n\u001B[0;32m     14\u001B[0m \u001B[38;5;66;03m# Retrieve the hidden message from the modified file\u001B[39;00m\n\u001B[0;32m     15\u001B[0m secret \u001B[38;5;241m=\u001B[39m crypto_steganography\u001B[38;5;241m.\u001B[39mretrieve(modfile)\n",
      "File \u001B[1;32mG:\\Anaconda\\envs\\myenv2\\lib\\site-packages\\cryptosteganography\\__init__.py:52\u001B[0m, in \u001B[0;36mCryptoSteganography.hide\u001B[1;34m(self, input_filename, output_filename, data)\u001B[0m\n\u001B[0;32m     48\u001B[0m cypher_data \u001B[38;5;241m=\u001B[39m base64\u001B[38;5;241m.\u001B[39mb64encode(cypher_data)\u001B[38;5;241m.\u001B[39mdecode()\n\u001B[0;32m     50\u001B[0m \u001B[38;5;66;03m# Hide the encrypted message in the image with the LSB\u001B[39;00m\n\u001B[0;32m     51\u001B[0m \u001B[38;5;66;03m# (Least Significant Bit) technique.\u001B[39;00m\n\u001B[1;32m---> 52\u001B[0m secret \u001B[38;5;241m=\u001B[39m \u001B[43mlsb\u001B[49m\u001B[38;5;241;43m.\u001B[39;49m\u001B[43mhide\u001B[49m\u001B[43m(\u001B[49m\u001B[43minput_filename\u001B[49m\u001B[43m,\u001B[49m\u001B[43m \u001B[49m\u001B[43mcypher_data\u001B[49m\u001B[43m)\u001B[49m\n\u001B[0;32m     53\u001B[0m \u001B[38;5;66;03m# Save the image file\u001B[39;00m\n\u001B[0;32m     54\u001B[0m secret\u001B[38;5;241m.\u001B[39msave(output_filename)\n",
      "File \u001B[1;32mG:\\Anaconda\\envs\\myenv2\\lib\\site-packages\\stegano\\lsb\\lsb.py:46\u001B[0m, in \u001B[0;36mhide\u001B[1;34m(input_image, message, encoding, shift, auto_convert_rgb)\u001B[0m\n\u001B[0;32m     43\u001B[0m message_length \u001B[38;5;241m=\u001B[39m \u001B[38;5;28mlen\u001B[39m(message)\n\u001B[0;32m     44\u001B[0m \u001B[38;5;28;01massert\u001B[39;00m message_length \u001B[38;5;241m!=\u001B[39m \u001B[38;5;241m0\u001B[39m, \u001B[38;5;124m\"\u001B[39m\u001B[38;5;124mmessage length is zero\u001B[39m\u001B[38;5;124m\"\u001B[39m\n\u001B[1;32m---> 46\u001B[0m img \u001B[38;5;241m=\u001B[39m \u001B[43mtools\u001B[49m\u001B[38;5;241;43m.\u001B[39;49m\u001B[43mopen_image\u001B[49m\u001B[43m(\u001B[49m\u001B[43minput_image\u001B[49m\u001B[43m)\u001B[49m\n\u001B[0;32m     48\u001B[0m \u001B[38;5;28;01mif\u001B[39;00m img\u001B[38;5;241m.\u001B[39mmode \u001B[38;5;129;01mnot\u001B[39;00m \u001B[38;5;129;01min\u001B[39;00m [\u001B[38;5;124m\"\u001B[39m\u001B[38;5;124mRGB\u001B[39m\u001B[38;5;124m\"\u001B[39m, \u001B[38;5;124m\"\u001B[39m\u001B[38;5;124mRGBA\u001B[39m\u001B[38;5;124m\"\u001B[39m]:\n\u001B[0;32m     49\u001B[0m     \u001B[38;5;28;01mif\u001B[39;00m \u001B[38;5;129;01mnot\u001B[39;00m auto_convert_rgb:\n",
      "File \u001B[1;32mG:\\Anaconda\\envs\\myenv2\\lib\\site-packages\\stegano\\tools.py:120\u001B[0m, in \u001B[0;36mopen_image\u001B[1;34m(fname_or_instance)\u001B[0m\n\u001B[0;32m    117\u001B[0m \u001B[38;5;28;01mif\u001B[39;00m \u001B[38;5;28misinstance\u001B[39m(fname_or_instance, Image\u001B[38;5;241m.\u001B[39mImage):\n\u001B[0;32m    118\u001B[0m     \u001B[38;5;28;01mreturn\u001B[39;00m fname_or_instance\n\u001B[1;32m--> 120\u001B[0m \u001B[38;5;28;01mreturn\u001B[39;00m \u001B[43mImage\u001B[49m\u001B[38;5;241;43m.\u001B[39;49m\u001B[43mopen\u001B[49m\u001B[43m(\u001B[49m\u001B[43mfname_or_instance\u001B[49m\u001B[43m)\u001B[49m\n",
      "File \u001B[1;32mG:\\Anaconda\\envs\\myenv2\\lib\\site-packages\\PIL\\Image.py:2818\u001B[0m, in \u001B[0;36mopen\u001B[1;34m(fp, mode)\u001B[0m\n\u001B[0;32m   2816\u001B[0m \u001B[38;5;28;01mfor\u001B[39;00m message \u001B[38;5;129;01min\u001B[39;00m accept_warnings:\n\u001B[0;32m   2817\u001B[0m     warnings\u001B[38;5;241m.\u001B[39mwarn(message)\n\u001B[1;32m-> 2818\u001B[0m \u001B[38;5;28;01mraise\u001B[39;00m \u001B[38;5;167;01mIOError\u001B[39;00m(\u001B[38;5;124m\"\u001B[39m\u001B[38;5;124mcannot identify image file \u001B[39m\u001B[38;5;132;01m%r\u001B[39;00m\u001B[38;5;124m\"\u001B[39m \u001B[38;5;241m%\u001B[39m (filename \u001B[38;5;28;01mif\u001B[39;00m filename \u001B[38;5;28;01melse\u001B[39;00m fp))\n",
      "\u001B[1;31mOSError\u001B[0m: cannot identify image file 'Firmware.txt'"
     ]
    }
   ],
   "source": [
    "from cryptosteganography import CryptoSteganography\n",
    "\n",
    "key = \"#123\"\n",
    "# Create an instance of the CryptoSteganography class\n",
    "crypto_steganography = CryptoSteganography(key)\n",
    "# Define the file paths\n",
    "origfile = \"Firmware.txt\"\n",
    "modfile = \"modfile.txt\"\n",
    "message = \"Alteredfile.txt\"\n",
    "\n",
    "# Hide the message in the original file and save it to the modified file\n",
    "crypto_steganography.hide(origfile, modfile, message)\n",
    "\n",
    "# Retrieve the hidden message from the modified file\n",
    "secret = crypto_steganography.retrieve(modfile)\n",
    "print(secret)\n"
   ]
  },
  {
   "cell_type": "code",
   "execution_count": null,
   "id": "2bf28985-074d-4b9d-ae6d-47e932f196a4",
   "metadata": {},
   "outputs": [],
   "source": []
  },
  {
   "cell_type": "code",
   "execution_count": null,
   "outputs": [],
   "source": [],
   "metadata": {
    "collapsed": false
   }
  }
 ],
 "metadata": {
  "kernelspec": {
   "display_name": "My virtual env",
   "language": "python",
   "name": "myenv2"
  },
  "language_info": {
   "codemirror_mode": {
    "name": "ipython",
    "version": 3
   },
   "file_extension": ".py",
   "mimetype": "text/x-python",
   "name": "python",
   "nbconvert_exporter": "python",
   "pygments_lexer": "ipython3",
   "version": "3.8.18"
  }
 },
 "nbformat": 4,
 "nbformat_minor": 5
}
